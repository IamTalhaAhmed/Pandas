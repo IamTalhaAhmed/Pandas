{
 "cells": [
  {
   "cell_type": "code",
   "execution_count": 23,
   "id": "458cbb55",
   "metadata": {},
   "outputs": [
    {
     "data": {
      "text/html": [
       "<div>\n",
       "<style scoped>\n",
       "    .dataframe tbody tr th:only-of-type {\n",
       "        vertical-align: middle;\n",
       "    }\n",
       "\n",
       "    .dataframe tbody tr th {\n",
       "        vertical-align: top;\n",
       "    }\n",
       "\n",
       "    .dataframe thead th {\n",
       "        text-align: right;\n",
       "    }\n",
       "</style>\n",
       "<table border=\"1\" class=\"dataframe\">\n",
       "  <thead>\n",
       "    <tr style=\"text-align: right;\">\n",
       "      <th></th>\n",
       "      <th>date</th>\n",
       "      <th>action</th>\n",
       "      <th>id</th>\n",
       "      <th>amount</th>\n",
       "    </tr>\n",
       "  </thead>\n",
       "  <tbody>\n",
       "    <tr>\n",
       "      <th>0</th>\n",
       "      <td>2018-01-01 04:04:59</td>\n",
       "      <td>buy</td>\n",
       "      <td>2458151555</td>\n",
       "      <td>8-500</td>\n",
       "    </tr>\n",
       "    <tr>\n",
       "      <th>1</th>\n",
       "      <td>2018-01-01 09:28:00</td>\n",
       "      <td>buy</td>\n",
       "      <td>2458151933</td>\n",
       "      <td>8-500</td>\n",
       "    </tr>\n",
       "    <tr>\n",
       "      <th>2</th>\n",
       "      <td>2018-01-01 13:23:16</td>\n",
       "      <td>buy</td>\n",
       "      <td>2458152245</td>\n",
       "      <td>8-500</td>\n",
       "    </tr>\n",
       "    <tr>\n",
       "      <th>3</th>\n",
       "      <td>2018-01-01 14:20:43</td>\n",
       "      <td>buy</td>\n",
       "      <td>2458152315</td>\n",
       "      <td>100</td>\n",
       "    </tr>\n",
       "    <tr>\n",
       "      <th>4</th>\n",
       "      <td>2018-01-02 02:57:43</td>\n",
       "      <td>buy</td>\n",
       "      <td>2458153264</td>\n",
       "      <td>8-500</td>\n",
       "    </tr>\n",
       "    <tr>\n",
       "      <th>5</th>\n",
       "      <td>2018-01-02 05:25:38</td>\n",
       "      <td>buy</td>\n",
       "      <td>2458152579</td>\n",
       "      <td>100</td>\n",
       "    </tr>\n",
       "    <tr>\n",
       "      <th>6</th>\n",
       "      <td>2018-01-02 06:56:41</td>\n",
       "      <td>buy</td>\n",
       "      <td>2458152825</td>\n",
       "      <td>800</td>\n",
       "    </tr>\n",
       "    <tr>\n",
       "      <th>7</th>\n",
       "      <td>2018-01-02 07:57:24</td>\n",
       "      <td>buy</td>\n",
       "      <td>2458151525</td>\n",
       "      <td>80</td>\n",
       "    </tr>\n",
       "    <tr>\n",
       "      <th>8</th>\n",
       "      <td>2018-01-02 12:47:33</td>\n",
       "      <td>buy</td>\n",
       "      <td>2458151771</td>\n",
       "      <td>8-400</td>\n",
       "    </tr>\n",
       "    <tr>\n",
       "      <th>9</th>\n",
       "      <td>2018-01-02 18:09:20</td>\n",
       "      <td>buy</td>\n",
       "      <td>2458151468</td>\n",
       "      <td>88</td>\n",
       "    </tr>\n",
       "    <tr>\n",
       "      <th>10</th>\n",
       "      <td>2018-01-02 19:14:09</td>\n",
       "      <td>buy</td>\n",
       "      <td>2458151757</td>\n",
       "      <td>8-40</td>\n",
       "    </tr>\n",
       "    <tr>\n",
       "      <th>11</th>\n",
       "      <td>2018-01-02 23:01:53</td>\n",
       "      <td>buy</td>\n",
       "      <td>2458151919</td>\n",
       "      <td>8-50</td>\n",
       "    </tr>\n",
       "    <tr>\n",
       "      <th>12</th>\n",
       "      <td>2018-01-03 01:33:30</td>\n",
       "      <td>buy</td>\n",
       "      <td>2458151481</td>\n",
       "      <td>200</td>\n",
       "    </tr>\n",
       "    <tr>\n",
       "      <th>13</th>\n",
       "      <td>2018-01-03 03:46:02</td>\n",
       "      <td>buy</td>\n",
       "      <td>2458154757</td>\n",
       "      <td>8-500</td>\n",
       "    </tr>\n",
       "    <tr>\n",
       "      <th>14</th>\n",
       "      <td>2018-01-03 10:00:39</td>\n",
       "      <td>buy</td>\n",
       "      <td>2458154363</td>\n",
       "      <td>8-100</td>\n",
       "    </tr>\n",
       "  </tbody>\n",
       "</table>\n",
       "</div>"
      ],
      "text/plain": [
       "                   date action          id amount\n",
       "0   2018-01-01 04:04:59    buy  2458151555  8-500\n",
       "1   2018-01-01 09:28:00    buy  2458151933  8-500\n",
       "2   2018-01-01 13:23:16    buy  2458152245  8-500\n",
       "3   2018-01-01 14:20:43    buy  2458152315    100\n",
       "4   2018-01-02 02:57:43    buy  2458153264  8-500\n",
       "5   2018-01-02 05:25:38    buy  2458152579    100\n",
       "6   2018-01-02 06:56:41    buy  2458152825    800\n",
       "7   2018-01-02 07:57:24    buy  2458151525     80\n",
       "8   2018-01-02 12:47:33    buy  2458151771  8-400\n",
       "9   2018-01-02 18:09:20    buy  2458151468     88\n",
       "10  2018-01-02 19:14:09    buy  2458151757   8-40\n",
       "11  2018-01-02 23:01:53    buy  2458151919   8-50\n",
       "12  2018-01-03 01:33:30    buy  2458151481    200\n",
       "13  2018-01-03 03:46:02    buy  2458154757  8-500\n",
       "14  2018-01-03 10:00:39    buy  2458154363  8-100"
      ]
     },
     "execution_count": 23,
     "metadata": {},
     "output_type": "execute_result"
    }
   ],
   "source": [
    "import csv\n",
    "import pandas as pd\n",
    "import re\n",
    "import string as str\n",
    "\n",
    "\n",
    "df=pd.read_csv('data_sets/range_data.csv',sep=';')\n",
    "df\n"
   ]
  },
  {
   "cell_type": "code",
   "execution_count": 21,
   "id": "2f7a374b",
   "metadata": {},
   "outputs": [],
   "source": [
    "p=re.compile(r\"\\d+$\",flags=re.M)"
   ]
  },
  {
   "cell_type": "code",
   "execution_count": 22,
   "id": "2b06af66",
   "metadata": {},
   "outputs": [
    {
     "ename": "AttributeError",
     "evalue": "type object 'str' has no attribute 'extract'",
     "output_type": "error",
     "traceback": [
      "\u001b[0;31m---------------------------------------------------------------------------\u001b[0m",
      "\u001b[0;31mAttributeError\u001b[0m                            Traceback (most recent call last)",
      "Input \u001b[0;32mIn [22]\u001b[0m, in \u001b[0;36m<cell line: 1>\u001b[0;34m()\u001b[0m\n\u001b[0;32m----> 1\u001b[0m \u001b[38;5;28;43mstr\u001b[39;49m\u001b[38;5;241;43m.\u001b[39;49m\u001b[43mextract\u001b[49m(p\u001b[38;5;241m.\u001b[39msearch())\n",
      "\u001b[0;31mAttributeError\u001b[0m: type object 'str' has no attribute 'extract'"
     ]
    }
   ],
   "source": [
    "str.extract(pat= '(\\d+$)')"
   ]
  },
  {
   "cell_type": "code",
   "execution_count": 18,
   "id": "257f0213",
   "metadata": {
    "scrolled": true
   },
   "outputs": [
    {
     "ename": "SyntaxError",
     "evalue": "unexpected character after line continuation character (3371311807.py, line 1)",
     "output_type": "error",
     "traceback": [
      "\u001b[0;36m  Input \u001b[0;32mIn [18]\u001b[0;36m\u001b[0m\n\u001b[0;31m    df=df.assign(amount = lambda df:df['amount'].str.extract(\\d+$)\u001b[0m\n\u001b[0m                                                              ^\u001b[0m\n\u001b[0;31mSyntaxError\u001b[0m\u001b[0;31m:\u001b[0m unexpected character after line continuation character\n"
     ]
    }
   ],
   "source": [
    "#df=df.assign(amount = lambda df:df['amount'].str.extract(p.search())\n"
   ]
  },
  {
   "cell_type": "code",
   "execution_count": null,
   "id": "28f75fff",
   "metadata": {},
   "outputs": [],
   "source": []
  }
 ],
 "metadata": {
  "kernelspec": {
   "display_name": "Python 3 (ipykernel)",
   "language": "python",
   "name": "python3"
  },
  "language_info": {
   "codemirror_mode": {
    "name": "ipython",
    "version": 3
   },
   "file_extension": ".py",
   "mimetype": "text/x-python",
   "name": "python",
   "nbconvert_exporter": "python",
   "pygments_lexer": "ipython3",
   "version": "3.10.4"
  }
 },
 "nbformat": 4,
 "nbformat_minor": 5
}
