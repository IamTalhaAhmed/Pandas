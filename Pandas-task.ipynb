{
 "cells": [
  {
   "cell_type": "code",
   "execution_count": null,
   "id": "e36d2903",
   "metadata": {},
   "outputs": [],
   "source": [
    "# from the dataset i had to get the unique cutomer ids and then i was to make a new dataframe that would have a name for every customer id."
   ]
  },
  {
   "cell_type": "code",
   "execution_count": 36,
   "id": "9b9764f9",
   "metadata": {},
   "outputs": [],
   "source": [
    "#importing pandas\n",
    "import pandas as pd\n",
    "import string\n",
    "import random "
   ]
  },
  {
   "cell_type": "code",
   "execution_count": 37,
   "id": "1ddda411",
   "metadata": {},
   "outputs": [],
   "source": [
    "#loading the dataframe\n",
    "data=pd.read_csv(\"data_sets/data.csv\",encoding= 'unicode_escape')"
   ]
  },
  {
   "cell_type": "code",
   "execution_count": 66,
   "id": "3d293a4f",
   "metadata": {},
   "outputs": [],
   "source": [
    "#getting the required coloumn of (unique)IDs from the dataframe in the list datastucture\n",
    "C_ID=list(data['CustomerID'].unique())\n",
    "#getting the length of the list so that the asme number of rows of random data can be generated \n",
    "length=len(C_ID)"
   ]
  },
  {
   "cell_type": "code",
   "execution_count": 67,
   "id": "87931319",
   "metadata": {},
   "outputs": [],
   "source": [
    "#function to generate random string data to fill up the names coloumn\n",
    "def nameGenerator(size=5, chars=string.ascii_uppercase):\n",
    "    return ''.join(random.choice(chars) for _ in range(size))\n",
    "#creating an empty list\n",
    "names=[]\n",
    "#calling the function to create the sample names \n",
    "for i in range(0,length):\n",
    "    x=nameGenerator()\n",
    "    #adding the generated names to a list \n",
    "    names += [x]"
   ]
  },
  {
   "cell_type": "code",
   "execution_count": 68,
   "id": "06429b93",
   "metadata": {},
   "outputs": [],
   "source": [
    "#to create a dataframe from the lists making a dictionary first\n",
    "dictionary={'CustomerID':C_ID,'Name':names}"
   ]
  },
  {
   "cell_type": "code",
   "execution_count": 69,
   "id": "8f1e9339",
   "metadata": {},
   "outputs": [],
   "source": [
    "sampledf=pd.DataFrame(dictionary)"
   ]
  },
  {
   "cell_type": "code",
   "execution_count": 70,
   "id": "9d768d7a",
   "metadata": {},
   "outputs": [
    {
     "data": {
      "text/html": [
       "<div>\n",
       "<style scoped>\n",
       "    .dataframe tbody tr th:only-of-type {\n",
       "        vertical-align: middle;\n",
       "    }\n",
       "\n",
       "    .dataframe tbody tr th {\n",
       "        vertical-align: top;\n",
       "    }\n",
       "\n",
       "    .dataframe thead th {\n",
       "        text-align: right;\n",
       "    }\n",
       "</style>\n",
       "<table border=\"1\" class=\"dataframe\">\n",
       "  <thead>\n",
       "    <tr style=\"text-align: right;\">\n",
       "      <th></th>\n",
       "      <th>CustomerID</th>\n",
       "      <th>Name</th>\n",
       "    </tr>\n",
       "  </thead>\n",
       "  <tbody>\n",
       "    <tr>\n",
       "      <th>0</th>\n",
       "      <td>17850.0</td>\n",
       "      <td>SDXAE</td>\n",
       "    </tr>\n",
       "    <tr>\n",
       "      <th>1</th>\n",
       "      <td>13047.0</td>\n",
       "      <td>NOXIB</td>\n",
       "    </tr>\n",
       "    <tr>\n",
       "      <th>2</th>\n",
       "      <td>12583.0</td>\n",
       "      <td>XFJJB</td>\n",
       "    </tr>\n",
       "    <tr>\n",
       "      <th>3</th>\n",
       "      <td>13748.0</td>\n",
       "      <td>NOFHT</td>\n",
       "    </tr>\n",
       "    <tr>\n",
       "      <th>4</th>\n",
       "      <td>15100.0</td>\n",
       "      <td>QQWDM</td>\n",
       "    </tr>\n",
       "    <tr>\n",
       "      <th>...</th>\n",
       "      <td>...</td>\n",
       "      <td>...</td>\n",
       "    </tr>\n",
       "    <tr>\n",
       "      <th>4368</th>\n",
       "      <td>13436.0</td>\n",
       "      <td>HBTJW</td>\n",
       "    </tr>\n",
       "    <tr>\n",
       "      <th>4369</th>\n",
       "      <td>15520.0</td>\n",
       "      <td>NJOJV</td>\n",
       "    </tr>\n",
       "    <tr>\n",
       "      <th>4370</th>\n",
       "      <td>13298.0</td>\n",
       "      <td>UXNPB</td>\n",
       "    </tr>\n",
       "    <tr>\n",
       "      <th>4371</th>\n",
       "      <td>14569.0</td>\n",
       "      <td>KVWKX</td>\n",
       "    </tr>\n",
       "    <tr>\n",
       "      <th>4372</th>\n",
       "      <td>12713.0</td>\n",
       "      <td>XYKEL</td>\n",
       "    </tr>\n",
       "  </tbody>\n",
       "</table>\n",
       "<p>4373 rows × 2 columns</p>\n",
       "</div>"
      ],
      "text/plain": [
       "      CustomerID   Name\n",
       "0        17850.0  SDXAE\n",
       "1        13047.0  NOXIB\n",
       "2        12583.0  XFJJB\n",
       "3        13748.0  NOFHT\n",
       "4        15100.0  QQWDM\n",
       "...          ...    ...\n",
       "4368     13436.0  HBTJW\n",
       "4369     15520.0  NJOJV\n",
       "4370     13298.0  UXNPB\n",
       "4371     14569.0  KVWKX\n",
       "4372     12713.0  XYKEL\n",
       "\n",
       "[4373 rows x 2 columns]"
      ]
     },
     "execution_count": 70,
     "metadata": {},
     "output_type": "execute_result"
    }
   ],
   "source": [
    "sampledf"
   ]
  },
  {
   "cell_type": "code",
   "execution_count": null,
   "id": "ff0ed703",
   "metadata": {},
   "outputs": [],
   "source": []
  }
 ],
 "metadata": {
  "kernelspec": {
   "display_name": "Python 3 (ipykernel)",
   "language": "python",
   "name": "python3"
  },
  "language_info": {
   "codemirror_mode": {
    "name": "ipython",
    "version": 3
   },
   "file_extension": ".py",
   "mimetype": "text/x-python",
   "name": "python",
   "nbconvert_exporter": "python",
   "pygments_lexer": "ipython3",
   "version": "3.10.4"
  }
 },
 "nbformat": 4,
 "nbformat_minor": 5
}
